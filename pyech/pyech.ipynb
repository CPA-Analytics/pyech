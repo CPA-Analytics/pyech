{
 "cells": [
  {
   "cell_type": "code",
   "execution_count": 1,
   "source": [
    "from pathlib import Path\r\n",
    "from warnings import warn\r\n",
    "from typing import Sequence\r\n",
    "\r\n",
    "import pandas as pd\r\n",
    "import pyreadstat\r\n",
    "from pandas_weighting import weight\r\n",
    "\r\n",
    "pd.DataFrame.weight = weight\r\n",
    "pd.Series.weight = weight"
   ],
   "outputs": [],
   "metadata": {}
  },
  {
   "cell_type": "code",
   "execution_count": 2,
   "source": [
    "path = Path(\"pyech\", \"data\", \"HyP_2019_Terceros.sav\")\r\n",
    "df, metadata = pyreadstat.read_sav(path)"
   ],
   "outputs": [],
   "metadata": {}
  },
  {
   "cell_type": "code",
   "execution_count": 3,
   "source": [
    "def tabulate(data, weights, index=None, columns=None, values=None, aggfunc=\"mean\",\r\n",
    "             totals=True, apply_labels=True):\r\n",
    "    valid = [v for v in [index, columns, values] if v]\r\n",
    "    if not index and not columns:\r\n",
    "        raise ValueError(\"must have index or columns\")\r\n",
    "    weighted = data[valid + [\"numero\"]].weight(data[weights])\r\n",
    "    if not values:\r\n",
    "        warn(\"`aggfunc` set to `len` since `values=None`.\")\r\n",
    "        aggfunc = len\r\n",
    "    output = pd.pivot_table(data=weighted, values=values, index=index, columns=columns,\r\n",
    "                            aggfunc=aggfunc, margins=totals, margins_name=\"Total\")\r\n",
    "    if apply_labels:\r\n",
    "        if columns in metadata.variable_value_labels:\r\n",
    "            output.rename(metadata.variable_value_labels[columns], axis=1, inplace=True)\r\n",
    "        if index in metadata.variable_value_labels:\r\n",
    "            output.rename(metadata.variable_value_labels[index], axis=0, inplace=True)\r\n",
    "    return output"
   ],
   "outputs": [],
   "metadata": {}
  },
  {
   "cell_type": "code",
   "execution_count": 20,
   "source": [
    "def ptiles(data, variable, weights, n=5, labels=False, by=None, result_weighted=False):\r\n",
    "    if not isinstance(by, Sequence) or isinstance(by, str):\r\n",
    "        by_array = [by]\r\n",
    "    else:\r\n",
    "        by_array = by\r\n",
    "    valid = [v for v in [variable] + by_array if v]\r\n",
    "    weighted = data[valid].weight(data[weights])\r\n",
    "    if by:\r\n",
    "        output = weighted.groupby(by)[variable].transform(func=pd.qcut, q=n, labels=labels)\r\n",
    "    else:\r\n",
    "        output = pd.qcut(weighted[variable], q=n, labels=labels)\r\n",
    "    if result_weighted:\r\n",
    "        return output\r\n",
    "    else:\r\n",
    "        return output.loc[~output.index.duplicated(keep=\"first\")]"
   ],
   "outputs": [],
   "metadata": {}
  },
  {
   "cell_type": "code",
   "execution_count": 25,
   "source": [
    "df[\"ptiles\"] = ptiles(data=df, weights=\"pesoano\", variable=\"HT11\", by=[\"nomdpto\"], labels=[f\"Quintil {n+1}\" for n in range(5)])"
   ],
   "outputs": [],
   "metadata": {}
  },
  {
   "cell_type": "code",
   "execution_count": 26,
   "source": [
    "tabulate(df, index=\"pobre06\", columns=\"ptiles\", weights=\"pesoano\", values=\"PT2\", aggfunc=\"mean\")"
   ],
   "outputs": [
    {
     "output_type": "execute_result",
     "data": {
      "text/html": [
       "<div>\n",
       "<style scoped>\n",
       "    .dataframe tbody tr th:only-of-type {\n",
       "        vertical-align: middle;\n",
       "    }\n",
       "\n",
       "    .dataframe tbody tr th {\n",
       "        vertical-align: top;\n",
       "    }\n",
       "\n",
       "    .dataframe thead th {\n",
       "        text-align: right;\n",
       "    }\n",
       "</style>\n",
       "<table border=\"1\" class=\"dataframe\">\n",
       "  <thead>\n",
       "    <tr style=\"text-align: right;\">\n",
       "      <th>ptiles</th>\n",
       "      <th>Quintil 1</th>\n",
       "      <th>Quintil 2</th>\n",
       "      <th>Quintil 3</th>\n",
       "      <th>Quintil 4</th>\n",
       "      <th>Quintil 5</th>\n",
       "      <th>Total</th>\n",
       "    </tr>\n",
       "    <tr>\n",
       "      <th>pobre06</th>\n",
       "      <th></th>\n",
       "      <th></th>\n",
       "      <th></th>\n",
       "      <th></th>\n",
       "      <th></th>\n",
       "      <th></th>\n",
       "    </tr>\n",
       "  </thead>\n",
       "  <tbody>\n",
       "    <tr>\n",
       "      <th>No pobre</th>\n",
       "      <td>6629.045782</td>\n",
       "      <td>9577.991759</td>\n",
       "      <td>12751.733048</td>\n",
       "      <td>17285.244444</td>\n",
       "      <td>30333.436546</td>\n",
       "      <td>16040.899837</td>\n",
       "    </tr>\n",
       "    <tr>\n",
       "      <th>Pobre</th>\n",
       "      <td>2962.684559</td>\n",
       "      <td>3641.935159</td>\n",
       "      <td>3797.465086</td>\n",
       "      <td>2435.675501</td>\n",
       "      <td>NaN</td>\n",
       "      <td>3138.075890</td>\n",
       "    </tr>\n",
       "    <tr>\n",
       "      <th>Total</th>\n",
       "      <td>5443.652826</td>\n",
       "      <td>9099.249210</td>\n",
       "      <td>12490.333859</td>\n",
       "      <td>17219.926143</td>\n",
       "      <td>30333.436546</td>\n",
       "      <td>14910.483192</td>\n",
       "    </tr>\n",
       "  </tbody>\n",
       "</table>\n",
       "</div>"
      ],
      "text/plain": [
       "ptiles      Quintil 1    Quintil 2     Quintil 3     Quintil 4     Quintil 5  \\\n",
       "pobre06                                                                        \n",
       "No pobre  6629.045782  9577.991759  12751.733048  17285.244444  30333.436546   \n",
       "Pobre     2962.684559  3641.935159   3797.465086   2435.675501           NaN   \n",
       "Total     5443.652826  9099.249210  12490.333859  17219.926143  30333.436546   \n",
       "\n",
       "ptiles           Total  \n",
       "pobre06                 \n",
       "No pobre  16040.899837  \n",
       "Pobre      3138.075890  \n",
       "Total     14910.483192  "
      ]
     },
     "metadata": {},
     "execution_count": 26
    }
   ],
   "metadata": {}
  },
  {
   "cell_type": "code",
   "execution_count": null,
   "source": [],
   "outputs": [],
   "metadata": {}
  }
 ],
 "metadata": {
  "orig_nbformat": 4,
  "language_info": {
   "name": "python",
   "version": "3.7.9",
   "mimetype": "text/x-python",
   "codemirror_mode": {
    "name": "ipython",
    "version": 3
   },
   "pygments_lexer": "ipython3",
   "nbconvert_exporter": "python",
   "file_extension": ".py"
  },
  "kernelspec": {
   "name": "python3",
   "display_name": "Python 3.7.9 64-bit ('pyech': virtualenv)"
  },
  "interpreter": {
   "hash": "00017e7f8304e7fefe69a44d9feda542eff5f0dcda8970db498fa8784b54e5ad"
  }
 },
 "nbformat": 4,
 "nbformat_minor": 2
}